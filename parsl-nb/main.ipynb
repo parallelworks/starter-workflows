{
 "cells": [
  {
   "cell_type": "code",
   "execution_count": 1,
   "metadata": {},
   "outputs": [
    {
     "name": "stdout",
     "output_type": "stream",
     "text": [
      "loading local pwconfig\n",
      "pwargs: Namespace(f='/root/.local/share/jupyter/runtime/kernel-4afa62fd-3df7-4792-98ce-829aba0e3b06.json')\n",
      "pwconfig loaded\n"
     ]
    }
   ],
   "source": [
    "\n",
    "import os\n",
    "import numpy as np\n",
    "import matplotlib as mpl\n",
    "from glob import glob\n",
    "import matplotlib.pyplot as plt\n",
    "\n",
    "import parsl\n",
    "from parsl.app.app import python_app, bash_app\n",
    "from parsl.data_provider.files import File\n",
    "from parslpw import pwconfig,pwargs\n",
    "\n",
    "parsl.load(pwconfig)\n",
    "print(\"pwconfig loaded\")\n"
   ]
  },
  {
   "cell_type": "code",
   "execution_count": 82,
   "metadata": {},
   "outputs": [],
   "source": [
    "@bash_app\n",
    "def run_nwchem(stdout='nwchem.stdout', stderr='nwchem.stderr', inputs=[], outputs=[]):\n",
    "    import os\n",
    "    label = os.path.splitext(os.path.basename(outputs[0]))[0]\n",
    "    run_script = os.path.basename(inputs[0])\n",
    "    docker = os.path.basename(inputs[2])\n",
    "\n",
    "    sed_command = \"sed -i -e 's,_XYZFILE_,%s.xyz,' -e 's/_NAME_/%s/' %s\"%(os.path.splitext(os.path.basename(inputs[1]))[0],label,os.path.basename(inputs[0]))\n",
    "    nwchem_command = \"/bin/bash \" + docker + \" \" + run_script + \" > \" + os.path.basename(outputs[0])\n",
    "    \n",
    "    return '''\n",
    "        %s \n",
    "        %s\n",
    "        mkdir -p outputs/out\n",
    "        mkdir -p outputs/db\n",
    "        mv *.db outputs/db\n",
    "        mv *.out outputs/out\n",
    "    ''' % (sed_command,nwchem_command)\n"
   ]
  },
  {
   "cell_type": "code",
   "execution_count": 86,
   "metadata": {},
   "outputs": [
    {
     "name": "stdout",
     "output_type": "stream",
     "text": [
      "in PWRsync stage_in: file.path=//pw/storage/inputs/dft_631g.nw\n",
      "in PWRsync stage_in: file=<<class 'parsl.data_provider.files.File'> at 0x7ff2f41ca160 url=file://parslhost//pw/storage/inputs/dft_631g.nw scheme=file netloc=parslhost path=/pw/storage/inputs/./dft_631g.nw filename=dft_631g.nw local_path=./dft_631g.nw>, curdir=/pw/workflows/nwchem_energy_molecule_set_v1 working_dir=/tmp/parsllogs pid=1520\n",
      "in PWRsync stage_in: file=<<class 'parsl.data_provider.files.File'> at 0x7ff2f41ca160 url=file://parslhost//pw/storage/inputs/dft_631g.nw scheme=file netloc=parslhost path=/pw/storage/inputs/./dft_631g.nw filename=dft_631g.nw local_path=./dft_631g.nw> pid=1520\n",
      "in PWRsync stage_in: file.path=//pw/storage/gcs_store/gw100_structures/100-41-4.xyz\n",
      "in PWRsync stage_in: file=<<class 'parsl.data_provider.files.File'> at 0x7ff2f41c6278 url=file://parslhost//pw/storage/gcs_store/gw100_structures/100-41-4.xyz scheme=file netloc=parslhost path=/pw/storage/gcs_store/gw100_structures/./100-41-4.xyz filename=100-41-4.xyz local_path=./100-41-4.xyz>, curdir=/pw/workflows/nwchem_energy_molecule_set_v1 working_dir=/tmp/parsllogs pid=1520\n",
      "in PWRsync stage_in: file=<<class 'parsl.data_provider.files.File'> at 0x7ff2f41c6278 url=file://parslhost//pw/storage/gcs_store/gw100_structures/100-41-4.xyz scheme=file netloc=parslhost path=/pw/storage/gcs_store/gw100_structures/./100-41-4.xyz filename=100-41-4.xyz local_path=./100-41-4.xyz> pid=1520\n",
      "in PWRsync stage_in: file.path=//pw/workflows/nwchem_energy_molecule_set_v1/run_nwchem_vanilla.sh \n",
      "in PWRsync stage_in: file=<<class 'parsl.data_provider.files.File'> at 0x7ff2f41a8ba8 url=file://parslhost//pw/workflows/nwchem_energy_molecule_set_v1/run_nwchem_vanilla.sh  scheme=file netloc=parslhost path=/pw/workflows/nwchem_energy_molecule_set_v1/./run_nwchem_vanilla.sh  filename=run_nwchem_vanilla.sh  local_path=./run_nwchem_vanilla.sh >, curdir=/pw/workflows/nwchem_energy_molecule_set_v1 working_dir=/tmp/parsllogs pid=1520\n",
      "in PWRsync stage_in: file=<<class 'parsl.data_provider.files.File'> at 0x7ff2f41a8ba8 url=file://parslhost//pw/workflows/nwchem_energy_molecule_set_v1/run_nwchem_vanilla.sh  scheme=file netloc=parslhost path=/pw/workflows/nwchem_energy_molecule_set_v1/./run_nwchem_vanilla.sh  filename=run_nwchem_vanilla.sh  local_path=./run_nwchem_vanilla.sh > pid=1520\n",
      "Running 1 simulations...\n",
      "0\n"
     ]
    },
    {
     "data": {
      "text/plain": [
       "[None]"
      ]
     },
     "execution_count": 86,
     "metadata": {},
     "output_type": "execute_result"
    }
   ],
   "source": [
    "pwargs = {\n",
    "    'nw_file':'/pw/storage/inputs/dft_631g.nw',\n",
    "    'structures':'/pw/storage/gcs_store/gw100_structures/100-41-4.xyz',\n",
    "    'png_file':'/pw/storage/20191101-162428.png',\n",
    "}\n",
    "\n",
    "prefix = 'file://parslhost/'\n",
    "run_file = File(prefix+os.getcwd()+\"/run_nwchem_vanilla.sh \")\n",
    "nw_file = File(prefix+pwargs['nw_file'])\n",
    "xyz_files = pwargs['structures'].split('---')\n",
    "\n",
    "runs=[]\n",
    "for xyz_file_raw in xyz_files:\n",
    "    xyz_file = File(prefix+xyz_file_raw)\n",
    "    out_file = File(prefix+os.getcwd()+'/./outputs/out/'+xyz_file.filename.replace('.xyz','.out'))\n",
    "    db_file = File(prefix+os.getcwd()+'/./outputs/db/'+xyz_file.filename.replace('.xyz','.db'))\n",
    "    r = run_nwchem(inputs=[nw_file,xyz_file,run_file], outputs=[out_file,db_file])\n",
    "    runs.append(r)\n",
    "\n",
    "print(\"Running\",len(runs),\"simulations...\")\n",
    "[print(r.result()) for r in runs]\n"
   ]
  }
 ],
 "metadata": {
  "kernelspec": {
   "display_name": "Python 3",
   "language": "python",
   "name": "python3"
  },
  "language_info": {
   "codemirror_mode": {
    "name": "ipython",
    "version": 3
   },
   "file_extension": ".py",
   "mimetype": "text/x-python",
   "name": "python",
   "nbconvert_exporter": "python",
   "pygments_lexer": "ipython3",
   "version": "3.7.3"
  }
 },
 "nbformat": 4,
 "nbformat_minor": 2
}
